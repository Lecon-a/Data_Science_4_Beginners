{
 "cells": [
  {
   "cell_type": "markdown",
   "id": "5181d1cf",
   "metadata": {},
   "source": [
    "# Introduction to Pandas"
   ]
  },
  {
   "cell_type": "markdown",
   "id": "900fd022",
   "metadata": {},
   "source": [
    "## What is Data Analysis?\n",
    "\n",
    "<b>Data Analysis </b>is a method of collecting, organizing raw data and study it to make obvious the hidden patterns or trends, hence, we to deduce a useful information that helps us make an informed decision. In addition, sometimes the data is manipulated to deal with abnormalities in the data.\n",
    "\n",
    "<b>Data Ananlysis and Pandas</b>\n",
    "- <b>Pandas </b> is an open source Python library\n",
    "- <b>Pandas </b> is a tool used by Data Scientists to do the following:\n",
    "    - Read\n",
    "    - Write\n",
    "    - Manipulate\n",
    "    - Analyze\n",
    "    \n",
    "## Why Pandas?\n",
    "- Ease exploration and manipulation of large data in an efficient manner.\n",
    "- We can use it to analyze large volume of data with ease. The large volume of data could mean million of rows/records.\n",
    "\n",
    "## What makes Pandas a popular tool\n",
    "- It's easy to read and learn.\n",
    "- Extremely fast and powerful.\n",
    "- Integrates well with other visualization libraries\n",
    "\n",
    "## Series and DataFrame\n",
    "<b>Note:</b> There are two fundamental data structures or objects at the core of the <b>Pandas</b> library. These are:\n",
    "1. Series\n",
    "2. DataFrame\n",
    "\n",
    "### Explain\n",
    "<b>1. Series: </b>\n",
    " - Series is a one-dimensional labeled array. \n",
    " - It can hold data of any type. \n",
    " - It is like a column in a given table.\n",
    "\n",
    "Note: All the elements in the Pandas Series are labeled with indexes. Hence, by default indexing starts from 0 in series.\n",
    "\n",
    "### Syntax\n",
    "> df_name = pandas.Series(list_of_values)\n",
    "\n",
    "<b>Example</b>\n",
    "> data = pd.Series([0.25, 0.5, 0.75, 1.0])\n",
    "\n",
    "<b>Explicit indexing</b>\n",
    "> data_2 = pd.Series(arr_1, index=[1, 2, 3, 4])"
   ]
  },
  {
   "cell_type": "code",
   "execution_count": 34,
   "id": "8c6ba714",
   "metadata": {},
   "outputs": [
    {
     "name": "stdout",
     "output_type": "stream",
     "text": [
      "<class 'list'>\n",
      "<class 'pandas.core.series.Series'>\n",
      "0    23.0\n",
      "1    50.0\n",
      "2    80.0\n",
      "3    45.0\n",
      "4    12.0\n",
      "dtype: float64\n"
     ]
    }
   ],
   "source": [
    "# to create pandas series we can use Python list, numpy_array\n",
    "import pandas as pd\n",
    "\n",
    "prices = [23.00, 50.00, 80.00, 45.00, 12.00]\n",
    "\n",
    "price_series = pd.Series(prices)\n",
    "\n",
    "print(type(prices))\n",
    "\n",
    "print(type(price_series))\n",
    "\n",
    "print(price_series)"
   ]
  },
  {
   "cell_type": "code",
   "execution_count": 35,
   "id": "d0688e1f",
   "metadata": {},
   "outputs": [
    {
     "data": {
      "text/plain": [
       "80.0"
      ]
     },
     "execution_count": 35,
     "metadata": {},
     "output_type": "execute_result"
    }
   ],
   "source": [
    "price_series[2]"
   ]
  },
  {
   "cell_type": "code",
   "execution_count": 36,
   "id": "2d51e9fb",
   "metadata": {},
   "outputs": [
    {
     "name": "stdout",
     "output_type": "stream",
     "text": [
      "(5,)\n"
     ]
    },
    {
     "data": {
      "text/plain": [
       "1       1\n",
       "2       3\n",
       "SPa     5\n",
       "4       7\n",
       "nine    9\n",
       "dtype: int64"
      ]
     },
     "execution_count": 36,
     "metadata": {},
     "output_type": "execute_result"
    }
   ],
   "source": [
    "import numpy as np\n",
    "\n",
    "np_arr = np.array([i for i in range(1, 10, 2)])\n",
    "print(np_arr.shape)\n",
    "# print([i for i in range(1, 10)])\n",
    "\n",
    "# create pandas series using numpy array\n",
    "# explicit state the index of a series\n",
    "np_series = pd.Series(np_arr, index=[1, 2, \"SPa\", 4, \"nine\"])\n",
    "np_series"
   ]
  },
  {
   "cell_type": "code",
   "execution_count": 37,
   "id": "d57bbbff",
   "metadata": {},
   "outputs": [
    {
     "data": {
      "text/plain": [
       "Index([1, 2, 'SPa', 4, 'nine'], dtype='object')"
      ]
     },
     "execution_count": 37,
     "metadata": {},
     "output_type": "execute_result"
    }
   ],
   "source": [
    "np_series.index"
   ]
  },
  {
   "cell_type": "code",
   "execution_count": 38,
   "id": "baff3aa7",
   "metadata": {},
   "outputs": [
    {
     "data": {
      "text/plain": [
       "array([1, 3, 5, 7, 9])"
      ]
     },
     "execution_count": 38,
     "metadata": {},
     "output_type": "execute_result"
    }
   ],
   "source": [
    "np_series.values"
   ]
  },
  {
   "cell_type": "code",
   "execution_count": 39,
   "id": "d73ebd83",
   "metadata": {},
   "outputs": [
    {
     "data": {
      "text/plain": [
       "9"
      ]
     },
     "execution_count": 39,
     "metadata": {},
     "output_type": "execute_result"
    }
   ],
   "source": [
    "np_series[\"nine\"]"
   ]
  },
  {
   "cell_type": "code",
   "execution_count": 40,
   "id": "b83110f4",
   "metadata": {},
   "outputs": [
    {
     "data": {
      "text/plain": [
       "5"
      ]
     },
     "execution_count": 40,
     "metadata": {},
     "output_type": "execute_result"
    }
   ],
   "source": [
    "np_series[\"SPa\"]"
   ]
  },
  {
   "cell_type": "code",
   "execution_count": 41,
   "id": "d48ba4b1",
   "metadata": {},
   "outputs": [
    {
     "data": {
      "text/plain": [
       "1"
      ]
     },
     "execution_count": 41,
     "metadata": {},
     "output_type": "execute_result"
    }
   ],
   "source": [
    "np_series[1]"
   ]
  },
  {
   "cell_type": "code",
   "execution_count": 42,
   "id": "fc8ead38",
   "metadata": {},
   "outputs": [],
   "source": [
    "# Exercise;\n",
    "# Use python list and dictionary to create pandas series.\n",
    "# Explicitly state the index of the pandas series create using list"
   ]
  },
  {
   "cell_type": "markdown",
   "id": "d7ee87a2",
   "metadata": {},
   "source": [
    "<b>2. DataFrame: </b>\n",
    "\n",
    "  - DataFrame is two-dimensional table.\n",
    "  - It is made up of a collection of Series.\n",
    "  - Structured with labeled axes (rows and columns)\n",
    "  \n",
    " Note: <b>each column</b> in the <b>DataFrame</b> is a <b>Series</b> of Pandas.\n",
    " \n",
    " ### Outline:\n",
    " - <b>Read</b> CSV file\n",
    " - <b>Write</b> DataFrame to CSV file\n",
    " - <b>Look into</b> the Read data\n",
    " - <b>Indexing</b>\n",
    "   > - <b>iloc:</b> index based selection\n",
    "   > - <b>loc:</b> labeled based selection\n",
    "   \n",
    "   > Note: Conceptually <b>iloc</b> and <b>loc</b> are similar. However, the difference between them is that <b>iloc</b> considers the default indexing while <b>loc</b> ignores the default indexing.\n",
    " - <b>Summary</b>\n",
    " - <b>Aggregation Functions</b>\n",
    " - <b>Conditional Selection</b>\n",
    " - <b>Sorting</b>\n",
    "   > - <b>ascending</b>\n",
    "   > - <b>descending</b>\n",
    "   \n",
    "   > Note: using column name of the DataFrame\n",
    " - Column | Row <b>Renaming</b>\n",
    " - <b>Missing Data</b>\n",
    "   > - <b>Checking</b>\n",
    "   > - <b>Filling</b>\n",
    "   > - <b>Dropping</b>\n",
    " - <a href=\"https://www.google.com/?q=Pandas\">Read More About <b>Pandas</b></a> \n"
   ]
  },
  {
   "cell_type": "code",
   "execution_count": 45,
   "id": "d18e0daf",
   "metadata": {},
   "outputs": [],
   "source": [
    "import pandas as pd\n",
    "import os"
   ]
  },
  {
   "cell_type": "code",
   "execution_count": 46,
   "id": "53b90c50",
   "metadata": {},
   "outputs": [
    {
     "name": "stdout",
     "output_type": "stream",
     "text": [
      "['CLD_CONTINUED', 'CLD_DUMPED', 'CLD_EXITED', 'CLD_KILLED', 'CLD_STOPPED', 'CLD_TRAPPED', 'DirEntry', 'EX_CANTCREAT', 'EX_CONFIG', 'EX_DATAERR', 'EX_IOERR', 'EX_NOHOST', 'EX_NOINPUT', 'EX_NOPERM', 'EX_NOUSER', 'EX_OK', 'EX_OSERR', 'EX_OSFILE', 'EX_PROTOCOL', 'EX_SOFTWARE', 'EX_TEMPFAIL', 'EX_UNAVAILABLE', 'EX_USAGE', 'F_LOCK', 'F_OK', 'F_TEST', 'F_TLOCK', 'F_ULOCK', 'GenericAlias', 'Mapping', 'MutableMapping', 'NGROUPS_MAX', 'O_ACCMODE', 'O_APPEND', 'O_ASYNC', 'O_CLOEXEC', 'O_CREAT', 'O_DIRECTORY', 'O_DSYNC', 'O_EVTONLY', 'O_EXCL', 'O_EXLOCK', 'O_FSYNC', 'O_NDELAY', 'O_NOCTTY', 'O_NOFOLLOW', 'O_NOFOLLOW_ANY', 'O_NONBLOCK', 'O_RDONLY', 'O_RDWR', 'O_SHLOCK', 'O_SYMLINK', 'O_SYNC', 'O_TRUNC', 'O_WRONLY', 'POSIX_SPAWN_CLOSE', 'POSIX_SPAWN_DUP2', 'POSIX_SPAWN_OPEN', 'PRIO_PGRP', 'PRIO_PROCESS', 'PRIO_USER', 'P_ALL', 'P_NOWAIT', 'P_NOWAITO', 'P_PGID', 'P_PID', 'P_WAIT', 'PathLike', 'RTLD_GLOBAL', 'RTLD_LAZY', 'RTLD_LOCAL', 'RTLD_NODELETE', 'RTLD_NOLOAD', 'RTLD_NOW', 'R_OK', 'SCHED_FIFO', 'SCHED_OTHER', 'SCHED_RR', 'SEEK_CUR', 'SEEK_DATA', 'SEEK_END', 'SEEK_HOLE', 'SEEK_SET', 'ST_NOSUID', 'ST_RDONLY', 'TMP_MAX', 'WCONTINUED', 'WCOREDUMP', 'WEXITED', 'WEXITSTATUS', 'WIFCONTINUED', 'WIFEXITED', 'WIFSIGNALED', 'WIFSTOPPED', 'WNOHANG', 'WNOWAIT', 'WSTOPPED', 'WSTOPSIG', 'WTERMSIG', 'WUNTRACED', 'W_OK', 'X_OK', '_Environ', '__all__', '__builtins__', '__doc__', '__file__', '__loader__', '__name__', '__package__', '__spec__', '_check_methods', '_execvpe', '_exists', '_exit', '_fspath', '_fwalk', '_get_exports_list', '_spawnvef', '_walk', '_wrap_close', 'abc', 'abort', 'access', 'altsep', 'chdir', 'chflags', 'chmod', 'chown', 'chroot', 'close', 'closerange', 'confstr', 'confstr_names', 'cpu_count', 'ctermid', 'curdir', 'defpath', 'device_encoding', 'devnull', 'dup', 'dup2', 'environ', 'environb', 'error', 'execl', 'execle', 'execlp', 'execlpe', 'execv', 'execve', 'execvp', 'execvpe', 'extsep', 'fchdir', 'fchmod', 'fchown', 'fdopen', 'fork', 'forkpty', 'fpathconf', 'fsdecode', 'fsencode', 'fspath', 'fstat', 'fstatvfs', 'fsync', 'ftruncate', 'fwalk', 'get_blocking', 'get_exec_path', 'get_inheritable', 'get_terminal_size', 'getcwd', 'getcwdb', 'getegid', 'getenv', 'getenvb', 'geteuid', 'getgid', 'getgrouplist', 'getgroups', 'getloadavg', 'getlogin', 'getpgid', 'getpgrp', 'getpid', 'getppid', 'getpriority', 'getsid', 'getuid', 'initgroups', 'isatty', 'kill', 'killpg', 'lchflags', 'lchmod', 'lchown', 'linesep', 'link', 'listdir', 'lockf', 'login_tty', 'lseek', 'lstat', 'major', 'makedev', 'makedirs', 'minor', 'mkdir', 'mkfifo', 'mknod', 'name', 'nice', 'open', 'openpty', 'pardir', 'path', 'pathconf', 'pathconf_names', 'pathsep', 'pipe', 'popen', 'posix_spawn', 'posix_spawnp', 'pread', 'preadv', 'putenv', 'pwrite', 'pwritev', 'read', 'readlink', 'readv', 'register_at_fork', 'remove', 'removedirs', 'rename', 'renames', 'replace', 'rmdir', 'scandir', 'sched_get_priority_max', 'sched_get_priority_min', 'sched_yield', 'sendfile', 'sep', 'set_blocking', 'set_inheritable', 'setegid', 'seteuid', 'setgid', 'setgroups', 'setpgid', 'setpgrp', 'setpriority', 'setregid', 'setreuid', 'setsid', 'setuid', 'spawnl', 'spawnle', 'spawnlp', 'spawnlpe', 'spawnv', 'spawnve', 'spawnvp', 'spawnvpe', 'st', 'stat', 'stat_result', 'statvfs', 'statvfs_result', 'strerror', 'supports_bytes_environ', 'supports_dir_fd', 'supports_effective_ids', 'supports_fd', 'supports_follow_symlinks', 'symlink', 'sync', 'sys', 'sysconf', 'sysconf_names', 'system', 'tcgetpgrp', 'tcsetpgrp', 'terminal_size', 'times', 'times_result', 'truncate', 'ttyname', 'umask', 'uname', 'uname_result', 'unlink', 'unsetenv', 'urandom', 'utime', 'wait', 'wait3', 'wait4', 'waitpid', 'waitstatus_to_exitcode', 'walk', 'write', 'writev']\n"
     ]
    }
   ],
   "source": [
    "print(dir(os))"
   ]
  },
  {
   "cell_type": "code",
   "execution_count": 47,
   "id": "7387d79e",
   "metadata": {},
   "outputs": [
    {
     "data": {
      "text/plain": [
       "'/Users/sunday-p-afolabi_mac/Code/dataset'"
      ]
     },
     "execution_count": 47,
     "metadata": {},
     "output_type": "execute_result"
    }
   ],
   "source": [
    "os.getcwd()"
   ]
  },
  {
   "cell_type": "code",
   "execution_count": 48,
   "id": "ada114cf",
   "metadata": {},
   "outputs": [
    {
     "name": "stdout",
     "output_type": "stream",
     "text": [
      "['ArrowDtype', 'BooleanDtype', 'Categorical', 'CategoricalDtype', 'CategoricalIndex', 'DataFrame', 'DateOffset', 'DatetimeIndex', 'DatetimeTZDtype', 'ExcelFile', 'ExcelWriter', 'Flags', 'Float32Dtype', 'Float64Dtype', 'Grouper', 'HDFStore', 'Index', 'IndexSlice', 'Int16Dtype', 'Int32Dtype', 'Int64Dtype', 'Int8Dtype', 'Interval', 'IntervalDtype', 'IntervalIndex', 'MultiIndex', 'NA', 'NaT', 'NamedAgg', 'Period', 'PeriodDtype', 'PeriodIndex', 'RangeIndex', 'Series', 'SparseDtype', 'StringDtype', 'Timedelta', 'TimedeltaIndex', 'Timestamp', 'UInt16Dtype', 'UInt32Dtype', 'UInt64Dtype', 'UInt8Dtype', '__all__', '__builtins__', '__cached__', '__doc__', '__docformat__', '__file__', '__git_version__', '__loader__', '__name__', '__package__', '__path__', '__spec__', '__version__', '_built_with_meson', '_config', '_is_numpy_dev', '_libs', '_pandas_datetime_CAPI', '_pandas_parser_CAPI', '_testing', '_typing', '_version_meson', 'annotations', 'api', 'array', 'arrays', 'bdate_range', 'compat', 'concat', 'core', 'crosstab', 'cut', 'date_range', 'describe_option', 'errors', 'eval', 'factorize', 'from_dummies', 'get_dummies', 'get_option', 'infer_freq', 'interval_range', 'io', 'isna', 'isnull', 'json_normalize', 'lreshape', 'melt', 'merge', 'merge_asof', 'merge_ordered', 'notna', 'notnull', 'offsets', 'option_context', 'options', 'pandas', 'period_range', 'pivot', 'pivot_table', 'plotting', 'qcut', 'read_clipboard', 'read_csv', 'read_excel', 'read_feather', 'read_fwf', 'read_gbq', 'read_hdf', 'read_html', 'read_json', 'read_orc', 'read_parquet', 'read_pickle', 'read_sas', 'read_spss', 'read_sql', 'read_sql_query', 'read_sql_table', 'read_stata', 'read_table', 'read_xml', 'reset_option', 'set_eng_float_format', 'set_option', 'show_versions', 'test', 'testing', 'timedelta_range', 'to_datetime', 'to_numeric', 'to_pickle', 'to_timedelta', 'tseries', 'unique', 'util', 'value_counts', 'wide_to_long']\n"
     ]
    }
   ],
   "source": [
    "print(dir(pd))"
   ]
  },
  {
   "cell_type": "code",
   "execution_count": 49,
   "id": "82fb13b1",
   "metadata": {},
   "outputs": [],
   "source": [
    "# CSV - Comma Separated Values"
   ]
  },
  {
   "cell_type": "markdown",
   "id": "b20bdf18",
   "metadata": {},
   "source": [
    "### Read CSV File"
   ]
  },
  {
   "cell_type": "code",
   "execution_count": 52,
   "id": "40c2bbb9",
   "metadata": {},
   "outputs": [],
   "source": [
    "# titanic_df = pd.read_csv(\"/Users/sunday-p-afolabi_mac/Code/dataset/titanic_data.csv\")\n",
    "titanic_df = pd.read_csv(\"titanic_data.csv\")"
   ]
  },
  {
   "cell_type": "code",
   "execution_count": 54,
   "id": "537369d1",
   "metadata": {},
   "outputs": [
    {
     "data": {
      "text/plain": [
       "pandas.core.frame.DataFrame"
      ]
     },
     "execution_count": 54,
     "metadata": {},
     "output_type": "execute_result"
    }
   ],
   "source": [
    "type(titanic_df)"
   ]
  },
  {
   "cell_type": "markdown",
   "id": "81f2228b",
   "metadata": {},
   "source": [
    "### Write DataFrame to CSV File"
   ]
  },
  {
   "cell_type": "code",
   "execution_count": 63,
   "id": "897a5b38",
   "metadata": {},
   "outputs": [
    {
     "data": {
      "text/html": [
       "<div>\n",
       "<style scoped>\n",
       "    .dataframe tbody tr th:only-of-type {\n",
       "        vertical-align: middle;\n",
       "    }\n",
       "\n",
       "    .dataframe tbody tr th {\n",
       "        vertical-align: top;\n",
       "    }\n",
       "\n",
       "    .dataframe thead th {\n",
       "        text-align: right;\n",
       "    }\n",
       "</style>\n",
       "<table border=\"1\" class=\"dataframe\">\n",
       "  <thead>\n",
       "    <tr style=\"text-align: right;\">\n",
       "      <th></th>\n",
       "      <th>0</th>\n",
       "      <th>1</th>\n",
       "      <th>2</th>\n",
       "      <th>3</th>\n",
       "      <th>4</th>\n",
       "      <th>5</th>\n",
       "    </tr>\n",
       "  </thead>\n",
       "  <tbody>\n",
       "    <tr>\n",
       "      <th>0</th>\n",
       "      <td>1</td>\n",
       "      <td>2</td>\n",
       "      <td>3</td>\n",
       "      <td>4</td>\n",
       "      <td>5</td>\n",
       "      <td>6</td>\n",
       "    </tr>\n",
       "    <tr>\n",
       "      <th>1</th>\n",
       "      <td>2</td>\n",
       "      <td>3</td>\n",
       "      <td>4</td>\n",
       "      <td>5</td>\n",
       "      <td>6</td>\n",
       "      <td>7</td>\n",
       "    </tr>\n",
       "  </tbody>\n",
       "</table>\n",
       "</div>"
      ],
      "text/plain": [
       "   0  1  2  3  4  5\n",
       "0  1  2  3  4  5  6\n",
       "1  2  3  4  5  6  7"
      ]
     },
     "execution_count": 63,
     "metadata": {},
     "output_type": "execute_result"
    }
   ],
   "source": [
    "\n",
    "df_example = pd.DataFrame([[1, 2, 3, 4, 5, 6], [2, 3, 4, 5, 6, 7]])\n",
    "df_example"
   ]
  },
  {
   "cell_type": "markdown",
   "id": "4e297812",
   "metadata": {},
   "source": [
    "### Looking into the data"
   ]
  },
  {
   "cell_type": "code",
   "execution_count": 65,
   "id": "d35120f0",
   "metadata": {},
   "outputs": [],
   "source": [
    "df_example.to_csv(\"teach_pandas_df.csv\", index=False)"
   ]
  },
  {
   "cell_type": "code",
   "execution_count": 67,
   "id": "4e00354f",
   "metadata": {},
   "outputs": [
    {
     "data": {
      "text/html": [
       "<div>\n",
       "<style scoped>\n",
       "    .dataframe tbody tr th:only-of-type {\n",
       "        vertical-align: middle;\n",
       "    }\n",
       "\n",
       "    .dataframe tbody tr th {\n",
       "        vertical-align: top;\n",
       "    }\n",
       "\n",
       "    .dataframe thead th {\n",
       "        text-align: right;\n",
       "    }\n",
       "</style>\n",
       "<table border=\"1\" class=\"dataframe\">\n",
       "  <thead>\n",
       "    <tr style=\"text-align: right;\">\n",
       "      <th></th>\n",
       "      <th>PassengerId</th>\n",
       "      <th>Survived</th>\n",
       "      <th>Pclass</th>\n",
       "      <th>Name</th>\n",
       "      <th>Sex</th>\n",
       "      <th>Age</th>\n",
       "      <th>SibSp</th>\n",
       "      <th>Parch</th>\n",
       "      <th>Ticket</th>\n",
       "      <th>Fare</th>\n",
       "      <th>Cabin</th>\n",
       "      <th>Embarked</th>\n",
       "    </tr>\n",
       "  </thead>\n",
       "  <tbody>\n",
       "    <tr>\n",
       "      <th>0</th>\n",
       "      <td>1</td>\n",
       "      <td>0</td>\n",
       "      <td>3</td>\n",
       "      <td>Braund, Mr. Owen Harris</td>\n",
       "      <td>male</td>\n",
       "      <td>22.0</td>\n",
       "      <td>1</td>\n",
       "      <td>0</td>\n",
       "      <td>A/5 21171</td>\n",
       "      <td>7.2500</td>\n",
       "      <td>NaN</td>\n",
       "      <td>S</td>\n",
       "    </tr>\n",
       "    <tr>\n",
       "      <th>1</th>\n",
       "      <td>2</td>\n",
       "      <td>1</td>\n",
       "      <td>1</td>\n",
       "      <td>Cumings, Mrs. John Bradley (Florence Briggs Th...</td>\n",
       "      <td>female</td>\n",
       "      <td>38.0</td>\n",
       "      <td>1</td>\n",
       "      <td>0</td>\n",
       "      <td>PC 17599</td>\n",
       "      <td>71.2833</td>\n",
       "      <td>C85</td>\n",
       "      <td>C</td>\n",
       "    </tr>\n",
       "    <tr>\n",
       "      <th>2</th>\n",
       "      <td>3</td>\n",
       "      <td>1</td>\n",
       "      <td>3</td>\n",
       "      <td>Heikkinen, Miss. Laina</td>\n",
       "      <td>female</td>\n",
       "      <td>26.0</td>\n",
       "      <td>0</td>\n",
       "      <td>0</td>\n",
       "      <td>STON/O2. 3101282</td>\n",
       "      <td>7.9250</td>\n",
       "      <td>NaN</td>\n",
       "      <td>S</td>\n",
       "    </tr>\n",
       "    <tr>\n",
       "      <th>3</th>\n",
       "      <td>4</td>\n",
       "      <td>1</td>\n",
       "      <td>1</td>\n",
       "      <td>Futrelle, Mrs. Jacques Heath (Lily May Peel)</td>\n",
       "      <td>female</td>\n",
       "      <td>35.0</td>\n",
       "      <td>1</td>\n",
       "      <td>0</td>\n",
       "      <td>113803</td>\n",
       "      <td>53.1000</td>\n",
       "      <td>C123</td>\n",
       "      <td>S</td>\n",
       "    </tr>\n",
       "    <tr>\n",
       "      <th>4</th>\n",
       "      <td>5</td>\n",
       "      <td>0</td>\n",
       "      <td>3</td>\n",
       "      <td>Allen, Mr. William Henry</td>\n",
       "      <td>male</td>\n",
       "      <td>35.0</td>\n",
       "      <td>0</td>\n",
       "      <td>0</td>\n",
       "      <td>373450</td>\n",
       "      <td>8.0500</td>\n",
       "      <td>NaN</td>\n",
       "      <td>S</td>\n",
       "    </tr>\n",
       "  </tbody>\n",
       "</table>\n",
       "</div>"
      ],
      "text/plain": [
       "   PassengerId  Survived  Pclass  \\\n",
       "0            1         0       3   \n",
       "1            2         1       1   \n",
       "2            3         1       3   \n",
       "3            4         1       1   \n",
       "4            5         0       3   \n",
       "\n",
       "                                                Name     Sex   Age  SibSp  \\\n",
       "0                            Braund, Mr. Owen Harris    male  22.0      1   \n",
       "1  Cumings, Mrs. John Bradley (Florence Briggs Th...  female  38.0      1   \n",
       "2                             Heikkinen, Miss. Laina  female  26.0      0   \n",
       "3       Futrelle, Mrs. Jacques Heath (Lily May Peel)  female  35.0      1   \n",
       "4                           Allen, Mr. William Henry    male  35.0      0   \n",
       "\n",
       "   Parch            Ticket     Fare Cabin Embarked  \n",
       "0      0         A/5 21171   7.2500   NaN        S  \n",
       "1      0          PC 17599  71.2833   C85        C  \n",
       "2      0  STON/O2. 3101282   7.9250   NaN        S  \n",
       "3      0            113803  53.1000  C123        S  \n",
       "4      0            373450   8.0500   NaN        S  "
      ]
     },
     "execution_count": 67,
     "metadata": {},
     "output_type": "execute_result"
    }
   ],
   "source": [
    "titanic_df.head()"
   ]
  },
  {
   "cell_type": "code",
   "execution_count": 68,
   "id": "6ccd735d",
   "metadata": {},
   "outputs": [
    {
     "name": "stdout",
     "output_type": "stream",
     "text": [
      "<class 'pandas.core.frame.DataFrame'>\n",
      "RangeIndex: 891 entries, 0 to 890\n",
      "Data columns (total 12 columns):\n",
      " #   Column       Non-Null Count  Dtype  \n",
      "---  ------       --------------  -----  \n",
      " 0   PassengerId  891 non-null    int64  \n",
      " 1   Survived     891 non-null    int64  \n",
      " 2   Pclass       891 non-null    int64  \n",
      " 3   Name         891 non-null    object \n",
      " 4   Sex          891 non-null    object \n",
      " 5   Age          714 non-null    float64\n",
      " 6   SibSp        891 non-null    int64  \n",
      " 7   Parch        891 non-null    int64  \n",
      " 8   Ticket       891 non-null    object \n",
      " 9   Fare         891 non-null    float64\n",
      " 10  Cabin        204 non-null    object \n",
      " 11  Embarked     889 non-null    object \n",
      "dtypes: float64(2), int64(5), object(5)\n",
      "memory usage: 83.7+ KB\n"
     ]
    }
   ],
   "source": [
    "titanic_df.info()"
   ]
  },
  {
   "cell_type": "code",
   "execution_count": null,
   "id": "d81c258d",
   "metadata": {},
   "outputs": [],
   "source": []
  },
  {
   "cell_type": "markdown",
   "id": "15ae7f1a",
   "metadata": {},
   "source": [
    "> <b>Link to the dataset</b>\n",
    "## https://raw.githubusercontent.com/dphi-official/Datasets/master/titanic_data.csv\n",
    "\n",
    "Thank to <b>AI Planet</b> for the link."
   ]
  },
  {
   "cell_type": "code",
   "execution_count": null,
   "id": "a914366f",
   "metadata": {},
   "outputs": [],
   "source": []
  },
  {
   "cell_type": "code",
   "execution_count": null,
   "id": "44cfbaef",
   "metadata": {},
   "outputs": [],
   "source": []
  },
  {
   "cell_type": "markdown",
   "id": "d0b0e959",
   "metadata": {},
   "source": [
    "### Indexing in Pandas\n",
    "\n",
    "> <b>Indexing in Pandas </b> means selecting particular rows and columns from DataFrame.\n",
    "\n",
    "`There are`<b>`two`</b>`different methods for`<b>`indexing`</b>`in Pandas.`\n",
    "- iloc\n",
    "- loc"
   ]
  },
  {
   "cell_type": "code",
   "execution_count": null,
   "id": "e0018a98",
   "metadata": {},
   "outputs": [],
   "source": []
  },
  {
   "cell_type": "code",
   "execution_count": null,
   "id": "f2786f27",
   "metadata": {},
   "outputs": [],
   "source": []
  },
  {
   "cell_type": "code",
   "execution_count": null,
   "id": "2cc27588",
   "metadata": {},
   "outputs": [],
   "source": []
  },
  {
   "cell_type": "markdown",
   "id": "a1507b85",
   "metadata": {},
   "source": [
    "### Summary\n",
    "\n",
    "> <b>Summary</b> is a brief information about the whole dataset | DataFrame in our stead.\n",
    "\n",
    "#### To generate summary about DataFrame use the following\n",
    "- info() method\n",
    "- describe() method\n",
    "\n",
    "#### Syntax\n",
    "> df_name.info() <b>OR</b> df_name.describe()"
   ]
  },
  {
   "cell_type": "code",
   "execution_count": null,
   "id": "c4b5ab86",
   "metadata": {},
   "outputs": [],
   "source": []
  },
  {
   "cell_type": "code",
   "execution_count": null,
   "id": "52925b0a",
   "metadata": {},
   "outputs": [],
   "source": []
  },
  {
   "cell_type": "code",
   "execution_count": null,
   "id": "de4787c4",
   "metadata": {},
   "outputs": [],
   "source": []
  },
  {
   "cell_type": "markdown",
   "id": "68b42980",
   "metadata": {},
   "source": [
    "### Aggregation Function\n",
    "\n",
    "- mean()\n",
    "- median()\n",
    "- sum()\n",
    "- unique()\n",
    "- value_counts()\n",
    "\n",
    "<b>Note:</b>\n",
    "\n",
    "- `To see all the unique values and they frequencies in the dataset, use value_counts() method.`\n",
    "\n",
    "- `std: tells us about the variation in the data we are working on.`\n"
   ]
  },
  {
   "cell_type": "code",
   "execution_count": null,
   "id": "70fb30ba",
   "metadata": {},
   "outputs": [],
   "source": []
  },
  {
   "cell_type": "markdown",
   "id": "84e006d5",
   "metadata": {},
   "source": [
    "### Conditional Selection\n",
    "\n",
    "In a scenario where you need to filter entries based on a particular condition or a given constraint, this is handy.\n",
    "\n",
    "#### Syntax\n",
    "`df_name[condition(s)]`\n",
    "\n",
    "Note: Clause might be more than one.\n",
    "- if more than one and those most be True, use <b>`&`</b>\n",
    "- if more than one and either might be True or False, use <b>`|`</b>"
   ]
  },
  {
   "cell_type": "code",
   "execution_count": null,
   "id": "7fbde000",
   "metadata": {},
   "outputs": [],
   "source": []
  },
  {
   "cell_type": "code",
   "execution_count": null,
   "id": "12b8eaf9",
   "metadata": {},
   "outputs": [],
   "source": []
  },
  {
   "cell_type": "code",
   "execution_count": null,
   "id": "bde23d99",
   "metadata": {},
   "outputs": [],
   "source": []
  },
  {
   "cell_type": "markdown",
   "id": "eb7db153",
   "metadata": {},
   "source": [
    "### Sorting\n",
    "\n",
    "#### Syntax\n",
    "- `df_name.sort_values(by=column_name)`\n",
    "\n",
    "> <b>Note:</b> By defaulf the about command would produce an ascending ordered result.\n",
    "\n",
    "##### For descending order use\n",
    "- `df_name.sort_values(by=column_name, ascending=False)`"
   ]
  },
  {
   "cell_type": "code",
   "execution_count": null,
   "id": "3a335d51",
   "metadata": {},
   "outputs": [],
   "source": []
  },
  {
   "cell_type": "markdown",
   "id": "e0f591d9",
   "metadata": {},
   "source": [
    "### Renaming\n",
    "\n",
    "To change column or row name.\n",
    "\n",
    "#### Syntax\n",
    "- <b>For column of a given DataFrame, use the following</b>\n",
    "\n",
    "```\n",
    "df_name.rename(\n",
    "    columns={\n",
    "            previous_column_name:name_column_name\n",
    "        }, \n",
    "    inplace=True\n",
    ")\n",
    "```\n",
    "\n",
    "- <b>For row of a given DataFrame, use the following</b>\n",
    "\n",
    "```\n",
    "df_name.rename(\n",
    "    index={\n",
    "        previous_column_name:name_column_name\n",
    "    }\n",
    ")\n",
    "```"
   ]
  },
  {
   "cell_type": "code",
   "execution_count": null,
   "id": "5ebaef96",
   "metadata": {},
   "outputs": [],
   "source": []
  },
  {
   "cell_type": "code",
   "execution_count": null,
   "id": "68b96eba",
   "metadata": {},
   "outputs": [],
   "source": []
  },
  {
   "cell_type": "code",
   "execution_count": null,
   "id": "f96ee085",
   "metadata": {},
   "outputs": [],
   "source": []
  },
  {
   "cell_type": "markdown",
   "id": "fbee44f8",
   "metadata": {},
   "source": [
    "### Handling Missing Data\n",
    "\n",
    "#### Syntax\n",
    "- Checking if there is a such situation\n",
    "  - <b>`df_name.isna()`</b> OR <b>`df_name.isnull()`</b>\n",
    "\n",
    "#### Syntax\n",
    "- Filling\n",
    "  - <b>`df_name.fillna(new_value, inplace=True)`</b>\n",
    "  \n",
    "#### Syntax\n",
    "- Dropping\n",
    "  - <b>`df_name.dropna()`</b>\n",
    "\n",
    "<b>Note: In my own opinion</b>, though based on the volume of data we are working on; if the missing data takes 10 - 20% of the data points, we can fill those. However, if the missing data points takes 40 & above, I advise we drop those missing data points."
   ]
  },
  {
   "cell_type": "code",
   "execution_count": null,
   "id": "4a4f02cd",
   "metadata": {},
   "outputs": [],
   "source": []
  },
  {
   "cell_type": "code",
   "execution_count": null,
   "id": "2b530163",
   "metadata": {},
   "outputs": [],
   "source": []
  },
  {
   "cell_type": "code",
   "execution_count": null,
   "id": "f7722717",
   "metadata": {},
   "outputs": [],
   "source": []
  },
  {
   "cell_type": "code",
   "execution_count": null,
   "id": "5af56fd8",
   "metadata": {},
   "outputs": [],
   "source": []
  },
  {
   "cell_type": "code",
   "execution_count": null,
   "id": "25aced49",
   "metadata": {},
   "outputs": [],
   "source": []
  },
  {
   "cell_type": "code",
   "execution_count": null,
   "id": "0c833d92",
   "metadata": {},
   "outputs": [],
   "source": []
  }
 ],
 "metadata": {
  "kernelspec": {
   "display_name": "Python 3 (ipykernel)",
   "language": "python",
   "name": "python3"
  },
  "language_info": {
   "codemirror_mode": {
    "name": "ipython",
    "version": 3
   },
   "file_extension": ".py",
   "mimetype": "text/x-python",
   "name": "python",
   "nbconvert_exporter": "python",
   "pygments_lexer": "ipython3",
   "version": "3.11.7"
  }
 },
 "nbformat": 4,
 "nbformat_minor": 5
}
